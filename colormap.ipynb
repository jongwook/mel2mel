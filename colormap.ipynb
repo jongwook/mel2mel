{
 "cells": [
  {
   "cell_type": "code",
   "execution_count": 34,
   "metadata": {},
   "outputs": [],
   "source": [
    "import os\n",
    "import shutil\n",
    "import matplotlib.pyplot as plt\n",
    "import numpy as np\n",
    "import math\n",
    "from tensorflow import keras\n",
    "from tensorflow.keras.layers import Embedding\n",
    "from tensorflow.keras.models import Sequential\n",
    "import tensorflowjs as tfjs\n",
    "\n",
    "%matplotlib inline"
   ]
  },
  {
   "cell_type": "code",
   "execution_count": null,
   "metadata": {},
   "outputs": [],
   "source": []
  },
  {
   "cell_type": "code",
   "execution_count": 41,
   "metadata": {},
   "outputs": [],
   "source": [
    "def save_colormap(name):\n",
    "    cmap = plt.get_cmap(name)\n",
    "    colors = []\n",
    "\n",
    "    for i in range(257):\n",
    "        r, g, b, a = cmap(i)\n",
    "        colors.append([int(round(r * 255)), int(round(g * 255)), int(round(b * 255)), int(round(a * 255))])\n",
    "\n",
    "    model = Sequential([Embedding(input_dim=257, output_dim=4, weights=[np.array(colors)])])\n",
    "    model.compile('adam', 'mse')\n",
    "    \n",
    "    output_dir = os.path.join('colormaps', name)\n",
    "    shutil.rmtree(output_dir, ignore_errors=True)\n",
    "    os.makedirs(output_dir, exist_ok=True)\n",
    "    tfjs.converters.save_keras_model(model, output_dir)"
   ]
  },
  {
   "cell_type": "code",
   "execution_count": 43,
   "metadata": {},
   "outputs": [],
   "source": [
    "for name in ['viridis', 'inferno', 'magma', 'plasma', 'jet']:\n",
    "    save_colormap(name)"
   ]
  },
  {
   "cell_type": "code",
   "execution_count": null,
   "metadata": {},
   "outputs": [],
   "source": []
  }
 ],
 "metadata": {
  "kernelspec": {
   "display_name": "Python 3",
   "language": "python",
   "name": "python3"
  },
  "language_info": {
   "codemirror_mode": {
    "name": "ipython",
    "version": 3
   },
   "file_extension": ".py",
   "mimetype": "text/x-python",
   "name": "python",
   "nbconvert_exporter": "python",
   "pygments_lexer": "ipython3",
   "version": "3.6.5"
  }
 },
 "nbformat": 4,
 "nbformat_minor": 2
}
